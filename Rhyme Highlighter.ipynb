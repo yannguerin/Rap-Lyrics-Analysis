{
 "cells": [
  {
   "cell_type": "markdown",
   "id": "4b7d1591",
   "metadata": {},
   "source": [
    "# Rhyme Highlighter\n",
    "### A project to highlight rap lyrics by syllable to visualize the rhyme schemes used by various rappers in various songs. Part of a larger project to analyze multiple aspects of Hip Hop music."
   ]
  },
  {
   "cell_type": "markdown",
   "id": "540ec3fd",
   "metadata": {},
   "source": [
    "## Modules"
   ]
  },
  {
   "cell_type": "code",
   "execution_count": 1,
   "id": "7e80902d",
   "metadata": {},
   "outputs": [],
   "source": [
    "import json\n",
    "from random import choice, sample\n",
    "\n",
    "import requests\n",
    "import pandas as pd\n",
    "import numpy as np\n",
    "import re"
   ]
  },
  {
   "cell_type": "code",
   "execution_count": 2,
   "id": "dcbcfcdd",
   "metadata": {},
   "outputs": [
    {
     "name": "stderr",
     "output_type": "stream",
     "text": [
      "[nltk_data] Downloading package wordnet to\n",
      "[nltk_data]     C:\\Users\\Yann\\AppData\\Roaming\\nltk_data...\n",
      "[nltk_data]   Package wordnet is already up-to-date!\n",
      "[nltk_data] Downloading package omw-1.4 to\n",
      "[nltk_data]     C:\\Users\\Yann\\AppData\\Roaming\\nltk_data...\n",
      "[nltk_data]   Package omw-1.4 is already up-to-date!\n"
     ]
    }
   ],
   "source": [
    "# Importing NLTK related modules\n",
    "import nltk\n",
    "import nltk.corpus\n",
    "nltk.download('wordnet')\n",
    "nltk.download('omw-1.4')\n",
    "from nltk.stem import WordNetLemmatizer\n",
    "from nltk.corpus import stopwords"
   ]
  },
  {
   "cell_type": "code",
   "execution_count": 3,
   "id": "c1d6a512",
   "metadata": {},
   "outputs": [],
   "source": [
    "# Importing Spacy related modules\n",
    "import spacy\n",
    "nlp = spacy.load('en_core_web_sm')"
   ]
  },
  {
   "cell_type": "markdown",
   "id": "2f08f267",
   "metadata": {},
   "source": [
    "## Constants and Variables"
   ]
  },
  {
   "cell_type": "code",
   "execution_count": 4,
   "id": "c8517fdb",
   "metadata": {},
   "outputs": [],
   "source": [
    "# For Words API\n",
    "\n",
    "ROOT_URL = \"https://wordsapiv1.p.rapidapi.com/words/\"\n",
    "HEADER = {\"X-RapidAPI-Key\": \"e180762d6amsh4110215b5d1eaa2p1c86bbjsn333829e4ac18\",\n",
    "         \"X-RapidAPI-Host\": \"wordsapiv1.p.rapidapi.com\"}"
   ]
  },
  {
   "cell_type": "code",
   "execution_count": 5,
   "id": "ab15846d",
   "metadata": {},
   "outputs": [],
   "source": [
    "# NLTK Related\n",
    "stopwords = stopwords.words('english')"
   ]
  },
  {
   "cell_type": "code",
   "execution_count": 6,
   "id": "8390ba2a",
   "metadata": {},
   "outputs": [],
   "source": [
    "# Rhyme Related\n",
    "primary_phonemes = ['AA0', 'AA1', 'AA2', 'AE0', 'AE1', 'AE2', 'AH0', 'AH1', 'AH2', 'AO0', 'AO1', 'AO2', 'AW0', 'AW1', 'AW2', 'AY0', 'AY1', 'AY2', 'EH0', 'EH1', 'EH2', 'ER0', 'ER1', 'ER2', 'EY0', 'EY1', 'EY2', 'IH0', 'IH1', 'IH2', 'IY0', 'IY1', 'IY2', 'OW0', 'OW1', 'OW2', 'OY0', 'OY1', 'OY2', 'UH0', 'UH1', 'UH2', 'UW0', 'UW1', 'UW2']\n",
    "no_stress_phonemes = ['AY', 'AE', 'IY', 'IH', 'AH', 'AA', 'EH', 'EY', 'OW', 'ER', 'AO', 'UW', 'UH', 'AW', 'OY']\n",
    "rhyme_dict = nltk.corpus.cmudict.dict()\n",
    "entries = nltk.corpus.cmudict.entries()"
   ]
  },
  {
   "cell_type": "markdown",
   "id": "8f43a822",
   "metadata": {},
   "source": [
    "## Objects"
   ]
  },
  {
   "cell_type": "markdown",
   "id": "6f87aae3",
   "metadata": {},
   "source": [
    "### Object to manage the Rhyme and Syllable dictionaries"
   ]
  },
  {
   "cell_type": "code",
   "execution_count": 7,
   "id": "5dc5342c",
   "metadata": {},
   "outputs": [],
   "source": [
    "class PronDict:\n",
    "    \n",
    "    def __init__(self):\n",
    "        # Initializing the cmudict dictionary for pronunciations\n",
    "        self.rhyme_dict = nltk.corpus.cmudict.dict()\n",
    "        self.entries = nltk.corpus.cmudict.entries()\n",
    "        self.syllables = {}\n",
    "        self.additions()\n",
    "        #self.syllables = self.read_syllables_file()\n",
    "        #self.update()\n",
    "    \n",
    "    #def update(self):\n",
    "    #    with open('pron_dict_extension.json', 'r+') as file:\n",
    "    \n",
    "    def add_pron(self, word, pron):\n",
    "        self.rhyme_dict[word] = [pron]\n",
    "        #with open(\"rhyme_dict_extension.json\", 'a+') as file:\n",
    "        #    json.dump({word: pron}, file)\n",
    "        #    file.write(\"\\n\")\n",
    "    \n",
    "    def add_syllables(self, word, syllables):\n",
    "        if isinstance(syllables, list) and isinstance(word, str):\n",
    "            syllable_dict = {'count': len(syllables), 'list': syllables}\n",
    "            word_syllable_dict = {word: {'count': len(syllables), 'list': syllables}}\n",
    "            self.syllables[word] = syllable_dict\n",
    "            #with open(\"syllables.json\", \"a+\") as file:\n",
    "            #    json.dump(word_syllable_dict, file)\n",
    "            #    file.write(\"\\n\")\n",
    "        else:\n",
    "            raise TypeError(\"Word value must be a string, and syllables value must a list\")\n",
    "    \n",
    "    #def read_syllables_file(self):\n",
    "    #    with open(\"syllables.json\", 'r+') as file:\n",
    "    #        return json.load(file)\n",
    "    \n",
    "    def additions(self):\n",
    "        self.add_syllables(\"into\", ['in', 'to'])\n",
    "        self.add_pron(\"I\", ['AY1'])\n",
    "        self.add_pron(\"sigil\", ['S', 'IH1', 'JH', 'AH0', 'L'])"
   ]
  },
  {
   "cell_type": "markdown",
   "id": "6771eeb4",
   "metadata": {},
   "source": [
    "### Object to manage a word to turn into a rhyme"
   ]
  },
  {
   "cell_type": "code",
   "execution_count": 8,
   "id": "54f30a34",
   "metadata": {},
   "outputs": [],
   "source": [
    "class Rhyme:\n",
    "    \n",
    "    def __init__(self, word):\n",
    "        self.word = word\n",
    "        self.word_info = self.get_word_info(self.word)\n",
    "        self.phonemes = self.get_phonemes(self.word)\n",
    "        self.syllables = self.get_syllables(self.word_info)\n",
    "        self.phoneme_dict = self.get_phoneme_syllable_dict()\n",
    "        self.colored_html = self.colorize_to_html()\n",
    "        \n",
    "    def get_word_info(self, word):\n",
    "        if isinstance(word, str): \n",
    "            #word = lemmatize(word)\n",
    "            return json.loads(requests.get(ROOT_URL + word + '/', headers=HEADER).text)\n",
    "        else:\n",
    "            raise TypeError(\"Value must be a string.\") \n",
    "            \n",
    "    def get_syllables(self, word_response):\n",
    "        if self.phonemes != None and len(self.get_phonemes_to_color(self.phonemes)) > 1:\n",
    "            try:\n",
    "                return word_response['syllables']\n",
    "            except KeyError:\n",
    "                try:\n",
    "                    return dictionary.syllables[self.word]\n",
    "                except KeyError:\n",
    "                    print(\"Unable to get syllables for:\" + self.word)\n",
    "        else:\n",
    "            return {'count': 1, 'list': [self.word]}\n",
    "            \n",
    "    def get_phonemes(self, word):\n",
    "        try:\n",
    "            return rhyme_dict[word][0]\n",
    "        except KeyError as e:\n",
    "            try:\n",
    "                return dictionary.rhyme_dict[word][0]\n",
    "            except:  \n",
    "                print(\"Could not find phonemes for:\" + word)\n",
    "                return None\n",
    "        \n",
    "    def get_phonemes_to_color(self, phonemes):\n",
    "        return [phoneme[:2] for phoneme in phonemes if len(phoneme) > 2]\n",
    "    \n",
    "    def get_phoneme_syllable_dict(self):\n",
    "        phonemes_to_color = self.get_phonemes_to_color(self.phonemes)\n",
    "        syllables_to_color = self.syllables['list']\n",
    "        if self.syllables['count'] == len(phonemes_to_color):\n",
    "            return dict(zip(syllables_to_color, phonemes_to_color))\n",
    "        else:\n",
    "            raise IndexError\n",
    "    \n",
    "    def colorize_to_html(self):\n",
    "        line_list = []\n",
    "        for syllable in self.phoneme_dict:\n",
    "            line_list.append(f'<h1 style=\"background-color:{colored_phonemes[self.phoneme_dict[syllable]]}; width:3.25em; display:inline\">{syllable}</h1>')\n",
    "        line_list.append(\"<h1 style='display:inline'>&nbsp;&nbsp;&nbsp;</h1>\")\n",
    "        return ''.join(line_list)"
   ]
  },
  {
   "cell_type": "markdown",
   "id": "ec8b2070",
   "metadata": {},
   "source": [
    "## Phoneme Colors"
   ]
  },
  {
   "cell_type": "code",
   "execution_count": 9,
   "id": "fe818562",
   "metadata": {},
   "outputs": [],
   "source": [
    "color_df = pd.read_html(\"https://www.ditig.com/256-colors-cheat-sheet\")[0]"
   ]
  },
  {
   "cell_type": "code",
   "execution_count": 10,
   "id": "0e91074b",
   "metadata": {},
   "outputs": [],
   "source": [
    "hex_colors = list(color_df.HEX[color_df[\"Xterm Number\"] < 231])\n",
    "hex_sample = sample(hex_colors, len(no_stress_phonemes))\n",
    "sorted_hex = sorted(hex_sample)"
   ]
  },
  {
   "cell_type": "code",
   "execution_count": 11,
   "id": "2fa5e0c7",
   "metadata": {},
   "outputs": [],
   "source": [
    "colored_phonemes = dict(zip(no_stress_phonemes, hex_sample))"
   ]
  },
  {
   "cell_type": "markdown",
   "id": "1313976f",
   "metadata": {},
   "source": [
    "## Set up for testing"
   ]
  },
  {
   "cell_type": "code",
   "execution_count": 12,
   "id": "d2419723",
   "metadata": {},
   "outputs": [],
   "source": [
    "dictionary = PronDict()"
   ]
  },
  {
   "cell_type": "markdown",
   "id": "35d3fb20",
   "metadata": {},
   "source": [
    "#### Adding word pronunciations and syllables that are not part of the CMU Dictionary and WordAPI database"
   ]
  },
  {
   "cell_type": "code",
   "execution_count": 13,
   "id": "51348a98",
   "metadata": {},
   "outputs": [],
   "source": [
    "dictionary.add_pron(\"sigil\", ['S', 'IH1', 'JH', 'AH0', 'L'])\n",
    "dictionary.add_syllables(\"radley\", ['rad', 'ley'])\n",
    "dictionary.add_pron(\"naptime\", ['N', 'AE1', 'P', 'T', 'AY1', 'M'])\n",
    "dictionary.add_syllables(\"naptime\", ['nap', 'time'])\n",
    "dictionary.add_syllables(\"every\", ['e', 'ver', 'y'])\n",
    "dictionary.add_syllables(\"louise\", ['lou', 'ise'])\n",
    "dictionary.add_pron(\"moleskin\", ['M', 'OW1', 'L', 'S', 'K', 'IH1', 'N'])\n",
    "dictionary.add_pron(\"woah\", ['W', 'OW1'])\n",
    "dictionary.add_syllables(\"tv\", ['t', 'v'])\n",
    "dictionary.add_syllables(\"jumping\", ['jump', 'ing'])\n",
    "dictionary.add_syllables(\"expressed\", ['ex', 'pressed'])\n",
    "dictionary.add_syllables(\"myself\", ['my', 'self'])\n",
    "dictionary.add_syllables(\"feelings\", ['fee', 'lings'])\n",
    "dictionary.add_syllables(\"momma\", ['mom', 'ma'])\n",
    "dictionary.add_syllables(\"everybody\", ['e', 'very', 'bo', 'dy'])\n",
    "dictionary.add_syllables(\"yourself\", ['your', 'self'])\n",
    "dictionary.add_syllables(\"gangsta\", ['gang', 'sta'])\n",
    "dictionary.add_syllables(\"everybody\", ['e', 'very', 'thing'])\n",
    "dictionary.add_syllables(\"without\", ['with', 'out'])\n",
    "dictionary.add_syllables(\"women\", ['wo', 'men'])\n",
    "dictionary.add_syllables(\"huckabee\", ['huck', 'a', 'bee'])\n",
    "dictionary.add_pron(\"fuckery\", ['F', 'AH1', 'K', 'ER0', 'IY0'])\n",
    "dictionary.add_syllables(\"fuckery\", ['fuck', 'er', 'y'])\n",
    "dictionary.add_pron(\"waterwings\", ['W', 'AO1', 'T', 'ER0', 'W', 'IH1', 'NG', 'Z'])\n",
    "dictionary.add_syllables(\"waterwings\", ['wa', 'ter', 'wings'])"
   ]
  },
  {
   "cell_type": "markdown",
   "id": "dc4a600e",
   "metadata": {},
   "source": [
    "## Testing Verses"
   ]
  },
  {
   "cell_type": "code",
   "execution_count": 14,
   "id": "4846c2fd",
   "metadata": {},
   "outputs": [],
   "source": [
    "# Verse text to rhyme\n",
    "boot_soup_v3 = '''Meanwhile back at the brackish<br>\n",
    "Half-man, patch-in, splash with the hapless<br>\n",
    "Tag every hack in the badlands<br>\n",
    "Spoon-gagged, amass the too trashy<br>\n",
    "Ragtag, rad to the last Boo Radley<br>\n",
    "Bad back and limbs that don't act right<br>\n",
    "Still flap with the bats in the black light<br>\n",
    "Architect of hard luck, turn love to a crash site<br>\n",
    "After lunch, before naptime<br>\n",
    "Z-Z-Z-Z, jaws on floors<br>\n",
    "A two-bit tour de force, I'm all yours<br>\n",
    "Rabid and raised to rig the game booth<br>\n",
    "I lick the plate clean, I lick the blade too, look<br>\n",
    "Ten beepers, even the freak elite<br>\n",
    "Fall back when the creature leap<br>\n",
    "His U.F.O. throw shade sea to sea<br>\n",
    "Jeez Louise, an omen to read and weep<br>\n",
    "The road been brain for the hunt, nose for the bone broth<br>\n",
    "Cold shoulder programmed to stonewall<br>\n",
    "Old dog, I'm known to cold know all<br>\n",
    "Don't wait 'til the whole shit snowball<br>\n",
    "One peek at the code in the moleskin<br>\n",
    "Might just render you part of the potion, woah<br>\n",
    "Never you mind the moth eggs<br>\n",
    "I'm warm and the TV is on always'''\n",
    "# Text Cleaning\n",
    "boot_soup_v3 = re.sub(r'[!?,;.\"\\n()]', '', boot_soup_v3)\n",
    "boot_soup_v3 = re.sub(r'[-:]', ' ', boot_soup_v3)\n",
    "boot_soup_lines = boot_soup_v3.lower().split(\"<br>\")"
   ]
  },
  {
   "cell_type": "code",
   "execution_count": 15,
   "id": "e364c8a2",
   "metadata": {},
   "outputs": [],
   "source": [
    "# Some helper functions\n",
    "\n",
    "def rhyme_that_line(bar_to_rhyme):\n",
    "    words_to_rhyme = bar_to_rhyme.split(' ')\n",
    "    rhymed_line = \"\"\n",
    "    for word in words_to_rhyme:\n",
    "        try:\n",
    "            rhyme = Rhyme(word)\n",
    "            rhymed_line += rhyme.colored_html\n",
    "        except:\n",
    "            rhymed_line += f'<h1 width:3.25em; display:inline\">{word}</h1>'\n",
    "            print(word)\n",
    "    with open(\"colored_phonemes.html\", 'a') as file:\n",
    "        file.write(rhymed_line)\n",
    "        file.write(\"\\n\")\n",
    "        \n",
    "def reset_file(filepath):\n",
    "    with open(filepath, 'r+') as file:\n",
    "        file.truncate(0)"
   ]
  },
  {
   "cell_type": "markdown",
   "id": "34ae0f7e",
   "metadata": {},
   "source": [
    "#### Generating the Highlighted Rhymes"
   ]
  },
  {
   "cell_type": "code",
   "execution_count": 16,
   "id": "e04c86ef",
   "metadata": {},
   "outputs": [
    {
     "name": "stdout",
     "output_type": "stream",
     "text": [
      "every\n",
      "Could not find phonemes for:ufo\n",
      "ufo\n"
     ]
    }
   ],
   "source": [
    "reset_file(\"colored_phonemes.html\")\n",
    "\n",
    "for line in boot_soup_lines:\n",
    "    rhyme_that_line(line)"
   ]
  }
 ],
 "metadata": {
  "kernelspec": {
   "display_name": "Python 3 (ipykernel)",
   "language": "python",
   "name": "python3"
  },
  "language_info": {
   "codemirror_mode": {
    "name": "ipython",
    "version": 3
   },
   "file_extension": ".py",
   "mimetype": "text/x-python",
   "name": "python",
   "nbconvert_exporter": "python",
   "pygments_lexer": "ipython3",
   "version": "3.10.5"
  }
 },
 "nbformat": 4,
 "nbformat_minor": 5
}
